{
 "cells": [
  {
   "cell_type": "markdown",
   "metadata": {},
   "source": [
    "# Greeks\n",
    "Greeks as sensitivity measures of option prices are derived from the BS, rather components of BS.  \n",
    "They are the partial derivatives of components of BS.   \n",
    "- Delta: $\\frac{\\partial C}{\\partial S}$  \n",
    "- Gamma: $\\frac{\\partial^2 C}{\\partial S^2}$  \n",
    "- Vega: $\\frac{\\partial C}{\\partial σ}$  \n",
    "- Theta： $\\frac{\\partial C}{\\partial t}$  \n",
    "- Rho: $\\frac{\\partial C}{\\partial r}$   "
   ]
  },
  {
   "cell_type": "markdown",
   "metadata": {},
   "source": [
    "# History of Greeks\n",
    "They are not explicitly formalized at the exact moment the BS formula was published.   \n",
    "- Pre BS   \n",
    "Trader intuitively tracked how the option prices changed.   \n",
    "- 1973: BS   \n",
    "Paper discussed delta hor hedging purposed.   \n",
    "But didn't use the word delta.   \n",
    "- 1970s-1980s    \n",
    "The Greek-letter terminology likely arose in the trading community and academic literature during the mid-to-late 1970s as options trading expanded, particularly after the Chicago Board Options Exchange standardized option trading in 1973.   \n",
    "- 1980  \n",
    "The Greeks were standard tools in options pricing and risk management texts.   \n",
    "- 1989  \n",
    "John Hull's *Option, Futures, and Other Derivatives* first published.   "
   ]
  }
 ],
 "metadata": {
  "language_info": {
   "name": "python"
  }
 },
 "nbformat": 4,
 "nbformat_minor": 2
}
