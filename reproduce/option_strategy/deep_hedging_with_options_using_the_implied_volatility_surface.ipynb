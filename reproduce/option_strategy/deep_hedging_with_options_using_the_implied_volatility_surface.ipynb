{
 "cells": [
  {
   "cell_type": "markdown",
   "metadata": {},
   "source": [
    "## [Deep Hedging with Options Using the Implied Volatility Surface](https://arxiv.org/abs/2504.06208) \n"
   ]
  }
 ],
 "metadata": {
  "language_info": {
   "name": "python"
  }
 },
 "nbformat": 4,
 "nbformat_minor": 2
}
