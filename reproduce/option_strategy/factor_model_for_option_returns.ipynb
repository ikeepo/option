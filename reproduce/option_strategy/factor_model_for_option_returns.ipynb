{
 "cells": [
  {
   "cell_type": "markdown",
   "metadata": {},
   "source": [
    "# [A Factor Model For Option Returns](https://www.nber.org/system/files/working_papers/w29369/w29369.pdf) \n",
    "## Refs\n",
    "[Valuation of Commodity Derivatives in a New Multi-Factor Model](https://citeseerx.ist.psu.edu/document?repid=rep1&type=pdf&doi=c6280d8afb59d10d9c07cee24c24e1010b77fa6d)  \n",
    "[Gaussian Multi-factor Interest Rate Models: Theory, Estimation, and Implications for Option Pricing](https://www.blogs.uni-mainz.de/fb03-finance/files/2020/08/gaussmodels.pdf)    \n",
    "[The Choice of Stochastic Process in Real Option Valuation II: Selecting Multiple Factor Models](https://www.realoptions.org/openconf2013/data/papers/32.pdf) "
   ]
  }
 ],
 "metadata": {
  "language_info": {
   "name": "python"
  }
 },
 "nbformat": 4,
 "nbformat_minor": 2
}
