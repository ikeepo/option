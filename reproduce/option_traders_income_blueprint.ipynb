{
 "cells": [
  {
   "cell_type": "markdown",
   "metadata": {},
   "source": [
    "# Refs\n",
    "- [Strategic Adjustments and Quantitative Risk Management (The Option Trader’s Income Blueprint Vol.3)](https://books.google.co.jp/books?hl=zh-CN&lr=&id=2S49EQAAQBAJ&oi=fnd&pg=PA10&ots=fh3oA2FhEb&sig=Irmj8PHPenTjmPX52z28XEmWG0M&redir_esc=y#v=onepage&q&f=false)"
   ]
  }
 ],
 "metadata": {
  "language_info": {
   "name": "python"
  }
 },
 "nbformat": 4,
 "nbformat_minor": 2
}
