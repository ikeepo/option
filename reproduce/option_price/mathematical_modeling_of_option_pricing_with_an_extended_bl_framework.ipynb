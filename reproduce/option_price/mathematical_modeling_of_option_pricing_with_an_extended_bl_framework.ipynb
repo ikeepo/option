{
 "cells": [
  {
   "cell_type": "markdown",
   "metadata": {},
   "source": [
    "## [Mathematical Modeling of Option Pricing with an Extended Black-Scholes Framework](https://arxiv.org/abs/2504.03175)\n",
    "## Keywords\n",
    "Option Price, BS, PDE, LSTM"
   ]
  }
 ],
 "metadata": {
  "language_info": {
   "name": "python"
  }
 },
 "nbformat": 4,
 "nbformat_minor": 2
}
