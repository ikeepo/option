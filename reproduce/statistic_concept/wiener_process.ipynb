{
 "cells": [
  {
   "cell_type": "markdown",
   "metadata": {},
   "source": [
    "# [Wiener process](https://en.wikipedia.org/wiki/Wiener_process)\n",
    "Standard Brownian motion.\n"
   ]
  },
  {
   "cell_type": "markdown",
   "metadata": {},
   "source": [
    "# Refs\n",
    "- [stochastic](https://github.com/joseprupi/stochastic)  \n",
    "- [stochastic](https://github.com/crflynn/stochastic)    \n",
    "- [Brownian Motion Simulation with Python](https://www.quantstart.com/articles/brownian-motion-simulation-with-python/)  "
   ]
  }
 ],
 "metadata": {
  "language_info": {
   "name": "python"
  }
 },
 "nbformat": 4,
 "nbformat_minor": 2
}
