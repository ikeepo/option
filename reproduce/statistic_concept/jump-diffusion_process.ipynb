{
 "cells": [
  {
   "cell_type": "markdown",
   "metadata": {},
   "source": [
    "# Jump-Diffusion Process \n",
    "# Refs\n",
    "- [Jump-Diffusion Process with Drift in Python; Simulate the Future Distribution of Foreign Exchange Rate (FX) Prices in order to Forecast the Future Value of a FX](https://medium.com/@polanitzer/jump-diffusion-process-with-drift-in-python-simulate-the-future-distribution-of-foreign-exchange-3d448e6f1d95)"
   ]
  }
 ],
 "metadata": {
  "language_info": {
   "name": "python"
  }
 },
 "nbformat": 4,
 "nbformat_minor": 2
}
