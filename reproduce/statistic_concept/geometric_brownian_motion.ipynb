{
 "cells": [
  {
   "cell_type": "markdown",
   "metadata": {},
   "source": [
    "# [geometric Brownian motion](https://en.wikipedia.org/wiki/Geometric_Brownian_motion)      \n",
    "Expotential Brownian motion in which the logarithm of the randomly varying quantity follows a Brownian motion(Wiener Process) with drift.   \n",
    "The BM can take on negative values, using ti directly for modeling stock prices is questionable, which is the reason that need [GBM](https://www.columbia.edu/~ks20/FE-Notes/4700-07-Notes-GBM.pdf) that is a non-negative variation of BM.   \n",
    "$$\n",
    "S(t) = S_0e^{X(t)}  \n",
    "$$\n",
    "where $X(t) = σB(t) + μt$ is BM with drift.   \n",
    "\n",
    "- [drift](https://en.wikipedia.org/wiki/Stochastic_drift)   \n",
    "Drift mean stochastic drift which is the change of the average value of a stochastic process.  \n",
    "*Drift rate* is the rate at which the average changes. \n",
    "# Refs\n",
    "- [Random Walks Have Never Been Funnier: Drifted Brownian Motion in Python](https://isquared.digital/blog/2020-05-01-drifted-brownian-motion/)   "
   ]
  }
 ],
 "metadata": {
  "language_info": {
   "name": "python"
  }
 },
 "nbformat": 4,
 "nbformat_minor": 2
}
