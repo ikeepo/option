{
 "cells": [
  {
   "cell_type": "code",
   "execution_count": 6,
   "metadata": {},
   "outputs": [
    {
     "name": "stdout",
     "output_type": "stream",
     "text": [
      "probability: 0.3989422804014327\n",
      "cumulated distribution: 0.5\n"
     ]
    }
   ],
   "source": [
    "from scipy.stats import norm\n",
    "p = norm.pdf(0, loc=0, scale=1)\n",
    "c = norm.cdf(0, loc=0, scale=1)\n",
    "print(f\"probability: {p}\")\n",
    "print(f\"cumulated distribution: {c}\")"
   ]
  }
 ],
 "metadata": {
  "kernelspec": {
   "display_name": "pergamum-5Gimrt47-py3.12",
   "language": "python",
   "name": "python3"
  },
  "language_info": {
   "codemirror_mode": {
    "name": "ipython",
    "version": 3
   },
   "file_extension": ".py",
   "mimetype": "text/x-python",
   "name": "python",
   "nbconvert_exporter": "python",
   "pygments_lexer": "ipython3",
   "version": "3.12.2"
  }
 },
 "nbformat": 4,
 "nbformat_minor": 2
}
