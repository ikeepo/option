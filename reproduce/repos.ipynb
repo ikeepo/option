{
 "cells": [
  {
   "cell_type": "markdown",
   "metadata": {},
   "source": [
    "# Github Repos on Option\n",
    "|repo|intro|active|\n",
    "|---|---|---|\n",
    "|**[OptionStratLib](https://github.com/joaquinbejar/OptionStratLib)**|rust|  True |\n",
    "|[RustQuant](https://github.com/avhz/RustQuant)|Rust|True|\n",
    "|[LP-Option-Hedging](https://github.com/Aureliano90/LP-Option-Hedging)|||\n",
    "|[Option-Strategies](https://github.com/pavandonthireddy/Option-Strategies)|||\n",
    "|[options-strategy-visualizer](https://github.com/shadiakiki1986/options-strategy-visualizer)  |||\n",
    "|[OptionStrategy](https://github.com/jinhuli/OptionStrategy)  |||\n",
    "|[quant-trading](https://github.com/je-suis-tm/quant-trading) |||\n",
    "|[vavabot_iptions_strategy](https://github.com/vavarb/vavabot_options_strategy?tab=readme-ov-file)  |||\n",
    "|[IQ-Option-Lua-scripts](https://github.com/sumanblack666/IQ-Option-Lua-scripts)  |||\n",
    "|[Options-Visualizer.github.io](https://github.com/Options-Visualizer/Options-Visualizer.github.io?tab=readme-ov-file) |||\n",
    "|[pyBlackScholesAnalytics](https://github.com/gabrielepompa88/pyBlackScholesAnalytics)   |||\n",
    "|[smartcondor](https://github.com/romanrdgz/smartcondor)   |||\n",
    "|[ibkr-options-volatility-trading](https://github.com/mcf-long-short/ibkr-options-volatility-trading) |||\n",
    "|[Option-strategies-backtesting-in-Python](https://github.com/OptionsnPython/Option-strategies-backtesting-in-Python) |||\n",
    "|[optionlab](https://github.com/rgaveiga/optionlab)  ||True|\n",
    "|[Options-Trading-Strategies-in-PythonPublic](https://github.com/PyPatel/Options-Trading-Strategies-in-Python/tree/master) |||\n",
    "\n"
   ]
  }
 ],
 "metadata": {
  "language_info": {
   "name": "python"
  }
 },
 "nbformat": 4,
 "nbformat_minor": 2
}
