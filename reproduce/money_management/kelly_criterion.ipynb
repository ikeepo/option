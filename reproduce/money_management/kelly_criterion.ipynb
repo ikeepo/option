{
 "cells": [
  {
   "cell_type": "markdown",
   "metadata": {},
   "source": [
    "# Kelly Criterion\n",
    "## What \n",
    "It requires **fixed odds** and as accurately as possible the probability of **winning**."
   ]
  }
 ],
 "metadata": {
  "language_info": {
   "name": "python"
  }
 },
 "nbformat": 4,
 "nbformat_minor": 2
}
