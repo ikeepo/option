{
 "cells": [
  {
   "cell_type": "markdown",
   "metadata": {},
   "source": [
    "# Ref\n",
    "[artical](https://assets-eu.researchsquare.com/files/rs-769898/v1_covered.pdf?c=1631875518) \n",
    "# Assumption\n",
    "## Fixing the stop-loss is similar to the way of Kelly criterion to fix the odds\n",
    "## Accurate Win-Rate Estimation\n",
    "# RFA\n"
   ]
  }
 ],
 "metadata": {
  "language_info": {
   "name": "python"
  }
 },
 "nbformat": 4,
 "nbformat_minor": 2
}
